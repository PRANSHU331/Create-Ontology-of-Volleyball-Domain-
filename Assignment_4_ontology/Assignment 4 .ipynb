{
 "cells": [
  {
   "cell_type": "code",
   "execution_count": 18,
   "id": "f3660838",
   "metadata": {},
   "outputs": [],
   "source": [
    "import rdflib\n",
    "from rdflib import Namespace, URIRef, Literal\n",
    "from rdflib.namespace import RDF, RDFS\n",
    "import xml.etree.ElementTree as ET\n",
    "import os\n",
    "from rdflib import Graph,Literal, RDF, URIRef\n",
    "from rdflib.namespace import FOAF, XSD\n",
    "from rdflib.namespace import  RDF, RDFS\n"
   ]
  },
  {
   "cell_type": "markdown",
   "id": "fb42daf8",
   "metadata": {},
   "source": [
    "# Fetch data from XML"
   ]
  },
  {
   "cell_type": "code",
   "execution_count": null,
   "id": "d9710dcd",
   "metadata": {},
   "outputs": [],
   "source": [
    "\n",
    "cwd=os.getcwd()\n",
    "\n",
    "tree = ET.parse(\"FINAL_volleyball_data.xml\")\n",
    "root = tree.getroot()"
   ]
  },
  {
   "cell_type": "code",
   "execution_count": 76,
   "id": "5266ba69",
   "metadata": {},
   "outputs": [
    {
     "data": {
      "text/plain": [
       "['Tournament Name', 'Location', 'Date', 'Venue', 'Organizer', 'Sponsors']"
      ]
     },
     "execution_count": 76,
     "metadata": {},
     "output_type": "execute_result"
    }
   ],
   "source": [
    "['Tournament Name', 'Location', 'Date', 'Venue', 'Organizer', 'Sponsors']"
   ]
  },
  {
   "cell_type": "code",
   "execution_count": 20,
   "id": "a6bec67f",
   "metadata": {},
   "outputs": [],
   "source": [
    "waiters = []\n",
    "AllWaiters = root.findall(\"Branch/Staff/Waiter\")\n",
    "for w in AllWaiters:\n",
    "    wId = w.get('Id')\n",
    "    name = w.find('Name')\n",
    "    salary = w.find('Salary')\n",
    "    contact = w.find('Contact')\n",
    "    phn = contact[0]\n",
    "    email = contact[1]\n",
    "    waiters.append([wId,name.text,salary.text,phn.text,email.text])"
   ]
  },
  {
   "cell_type": "code",
   "execution_count": 23,
   "id": "6a46c1a0",
   "metadata": {},
   "outputs": [],
   "source": [
    "player = []\n",
    "Allplayer = root.findall(\"tournament/teams/teams/team/players/player\")\n",
    "\n",
    "for player in Allplayer:\n",
    "    player_name = player.find('name').text\n",
    "    jersey = player.get('jersey')\n",
    "    height = player.get('height')\n",
    "    weight = player.get('weight')\n",
    "    birthdate = player.get('birthdate')\n",
    "    hometown = player.get('hometown')\n",
    "    year = player.get('year')\n",
    "    position = player.find('position').text\n",
    "    player1.append([team_id, player_name, jersey, height, weight, birthdate, hometown, year, position])\n"
   ]
  },
  {
   "cell_type": "code",
   "execution_count": 24,
   "id": "51419fca",
   "metadata": {},
   "outputs": [
    {
     "name": "stdout",
     "output_type": "stream",
     "text": [
      "\n"
     ]
    }
   ],
   "source": [
    "print(*player, sep = \"\\n\")"
   ]
  },
  {
   "cell_type": "code",
   "execution_count": 25,
   "id": "fa7c70f7",
   "metadata": {},
   "outputs": [],
   "source": [
    "import csv\n",
    "from xml.etree import ElementTree as ET\n",
    "\n",
    "# Parse the XML data\n",
    "tree = ET.parse('FINAL_volleyball_data.xml')\n",
    "root = tree.getroot()"
   ]
  },
  {
   "cell_type": "code",
   "execution_count": 41,
   "id": "00fb325d",
   "metadata": {},
   "outputs": [],
   "source": [
    "tournament1=[]\n",
    "\n",
    "tournament = root.find('tournament')\n",
    "tournament1.append([\n",
    "    tournament.find('name').text,\n",
    "    tournament.find('location').text,\n",
    "    tournament.find('date').text,\n",
    "    tournament.find('venue').text,\n",
    "    tournament.find('organizer').text,\n",
    "    ', '.join([sponsor.text for sponsor in tournament.findall('sponsor')])\n",
    "])\n",
    "\n",
    "\n",
    "team1=[]\n",
    "teams = tournament.find('teams')\n",
    "for team in teams.findall('team'):\n",
    "    team_id = team.get('teamID')\n",
    "    team_name = team.find('name').text\n",
    "    coach = team.find('coach').text\n",
    "    team1.append([team_id, team_name, coach])\n",
    "\n",
    "    # Write the players header\n",
    "#     writer.writerow(['Team ID', 'Player Name', 'Jersey', 'Height', 'Weight', 'Birthdate', 'Hometown', 'Year', 'Position'])\n",
    "\n",
    "\n",
    "allplayer=[]\n",
    "for team in teams.findall('team'):\n",
    "        team_id = team.get('teamID')\n",
    "        for player in team.find('players').findall('player'):\n",
    "            player_name = player.find('name').text\n",
    "            jersey = player.get('jersey')\n",
    "            height = player.get('height')\n",
    "            weight = player.get('weight')\n",
    "            birthdate = player.get('birthdate')\n",
    "            hometown = player.get('hometown')\n",
    "            year = player.get('year')\n",
    "            position = player.find('position').text\n",
    "            allplayer.append([team_id, player_name, jersey, height, weight, birthdate, hometown, year, position])\n",
    "\n",
    "                       \n",
    "match1=[]            \n",
    "match = tournament.find('match')\n",
    "match_id = match.get('id')\n",
    "court = match.get('court')\n",
    "team1 = match.find('team1')\n",
    "team1_id = team1.get('teamref')\n",
    "team1_captain = team1.get('captain')\n",
    "team1_color = team1.get('color')\n",
    "team1_serve_order = team1.get('serve_order')\n",
    "team2 = match.find('team2')\n",
    "team2_id = team2.get('teamref')\n",
    "team2_captain = team2.get('captain')\n",
    "team2_color = team2.get('color')\n",
    "team2_serve_order = team2.get('serve_order')            \n",
    "match1.append([match_id, court, team1, team1_id, team1_captain, team1_color, team1_serve_order, team2, team2_id,team2_captain,team2_color,team2_serve_order])\n"
   ]
  },
  {
   "cell_type": "code",
   "execution_count": 32,
   "id": "d92abef7",
   "metadata": {},
   "outputs": [
    {
     "name": "stdout",
     "output_type": "stream",
     "text": [
      "['International Volleyball Championship', 'Los Angeles, CA', '2023-06-10', 'Staples Center', 'International Volleyball Association', 'Adidas, Nike']\n"
     ]
    }
   ],
   "source": [
    "print(*tournament1, sep = \"\\n\")"
   ]
  },
  {
   "cell_type": "code",
   "execution_count": 33,
   "id": "09e756fa",
   "metadata": {},
   "outputs": [
    {
     "name": "stdout",
     "output_type": "stream",
     "text": [
      "['usa', 'USA', 'John Smith']\n",
      "['canada', 'Canada', 'Mike Lee']\n"
     ]
    }
   ],
   "source": [
    "print(*team1, sep = \"\\n\")"
   ]
  },
  {
   "cell_type": "code",
   "execution_count": 34,
   "id": "46eaaedc",
   "metadata": {},
   "outputs": [
    {
     "name": "stdout",
     "output_type": "stream",
     "text": [
      "['usa', 'Johnny Depp', '1', '190cm', '90kg', '1990-01-01', 'Los Angeles, USA', '4', 'Setter']\n",
      "['usa', 'Mike Johnson', '2', '195cm', '100kg', '1991-02-01', 'Chicago, USA', '4', 'Outside Hitter']\n",
      "['usa', 'Andrew Williams', '3', '200cm', '95kg', '1992-03-01', 'New York, USA', '3', 'Middle Blocker']\n",
      "['usa', 'David Brown', '4', '185cm', '85kg', '1993-04-01', 'Houston, USA', '2', 'Libero']\n",
      "['usa', 'Paul Lee', '5', '192cm', '92kg', '1994-05-01', 'San Francisco, USA', '1', 'Opposite Hitter']\n",
      "['usa', 'Chris Green', '6', '185cm', '88kg', '1995-06-01', 'Seattle, USA', '1', 'Outside Hitter']\n",
      "['canada', 'Jordan Larson', '1', '185cm', '75kg', 'June 19, 1982', 'Santa Cruz, California', '10', 'Outside Hitter']\n",
      "['canada', 'Foluke Akinradewo Gunderson', '2', '191cm', '82kg', 'June 14, 1986', 'Houston, Texas', '10', 'Middle Blocker']\n",
      "['canada', 'Jordan Thompson', '3', '188cm', '72kg', 'January 10, 1990', 'Sachse, Texas', '7', 'Opposite Hitter']\n",
      "['canada', 'Kelsey Robinson', '4', '188cm', '78kg', 'June 4, 1988', 'Parker, Colorado', '13', 'Outside Hitter']\n",
      "['canada', 'Mike Adams', '5', '190cm', '75kg', 'November 18, 1993', 'El Segundo, California', '5', 'Middle Blocker']\n",
      "['canada', 'Peter Hill', '6', '168cm', '61kg', 'July 5, 1987', 'Cypress, California', '11', 'Outside Hitter']\n"
     ]
    }
   ],
   "source": [
    "print(*allplayer, sep = \"\\n\")"
   ]
  },
  {
   "cell_type": "code",
   "execution_count": 42,
   "id": "9fa830c6",
   "metadata": {},
   "outputs": [
    {
     "name": "stdout",
     "output_type": "stream",
     "text": [
      "['A001', '1', <Element 'team1' at 0x000001F984106720>, 'usa', 'Johnny Depp', 'Red', '1', <Element 'team2' at 0x000001F984106770>, 'canada', 'Kelsey Robinson', 'White', '2']\n"
     ]
    }
   ],
   "source": [
    "print(*match1, sep = \"\\n\")"
   ]
  },
  {
   "cell_type": "code",
   "execution_count": 35,
   "id": "e63b7265",
   "metadata": {},
   "outputs": [
    {
     "data": {
      "text/plain": [
       "<Graph identifier=N041c4401e3d340dfaf0c0072ec7e189e (<class 'rdflib.graph.Graph'>)>"
      ]
     },
     "execution_count": 35,
     "metadata": {},
     "output_type": "execute_result"
    }
   ],
   "source": [
    "g=Graph()\n",
    "filename = cwd+\"/A3.owl\"\n",
    "g.parse(filename, format='xml')\n",
    "# g.(filename, format='xml')"
   ]
  },
  {
   "cell_type": "code",
   "execution_count": 36,
   "id": "288092dc",
   "metadata": {},
   "outputs": [],
   "source": [
    "def isAlreadyDefined(subs):\n",
    "    for s in g.subjects():\n",
    "        if(subs in str(s)):\n",
    "            return True\n",
    "    return False\n",
    "\n",
    "myNamespace=\"http://www.semanticweb.org/ajay/ontologies/2022/3/Volleyballonto\"\n",
    "namedIndividual = URIRef('http://www.w3.org/2002/07/owl#NamedIndividual')\n",
    "rdftype = URIRef(\"http://www.w3.org/1999/02/22-rdf-syntax-ns#type\")"
   ]
  },
  {
   "cell_type": "code",
   "execution_count": 44,
   "id": "6273c366",
   "metadata": {},
   "outputs": [],
   "source": [
    "triplets=[]\n",
    "obj_properties=[]  \n",
    "att_properties=[]  \n",
    "\n",
    "\n",
    "\n",
    "\n",
    "arc_class=str(myNamespace)+\"#allplayer\"\n",
    "for indv in allplayer:\n",
    "    \n",
    "    individualName=str(myNamespace)+\"#\"+str(indv[1]).replace(' ','_')\n",
    "    arc_individual = URIRef(individualName)\n",
    "    if(isAlreadyDefined(individualName)==False): \n",
    "        triplets.append((arc_individual,RDF.type, URIRef(arc_class)))\n",
    "        triplets.append((arc_individual,RDF.type, URIRef(namedIndividual)))\n",
    "\n",
    "        subject=arc_individual\n",
    "        #pred= URIRef(str(myNamespace)+\"#id\")\n",
    "        literal=indv[0]\n",
    "        att_properties.append( (subject, URIRef(str(myNamespace)+\"#team_id\")  , Literal(literal,datatype=XSD.string)) )\n",
    "        att_properties.append( (subject, URIRef(str(myNamespace)+\"#name\"), Literal(indv[1],datatype=XSD.string)) )\n",
    "        att_properties.append( (subject, URIRef(str(myNamespace)+\"#position\"), Literal(indv[2],datatype=XSD.string)) )"
   ]
  },
  {
   "cell_type": "code",
   "execution_count": 46,
   "id": "d939e4aa",
   "metadata": {},
   "outputs": [
    {
     "data": {
      "text/plain": [
       "(rdflib.term.URIRef('http://www.semanticweb.org/ajay/ontologies/2022/3/Volleyballonto#Johnny_Depp'),\n",
       " rdflib.term.URIRef('http://www.semanticweb.org/ajay/ontologies/2022/3/Volleyballonto#team_id'),\n",
       " rdflib.term.Literal('usa', datatype=rdflib.term.URIRef('http://www.w3.org/2001/XMLSchema#string')))"
      ]
     },
     "execution_count": 46,
     "metadata": {},
     "output_type": "execute_result"
    }
   ],
   "source": [
    "att_properties[0]"
   ]
  },
  {
   "cell_type": "code",
   "execution_count": 47,
   "id": "f09e7e83",
   "metadata": {},
   "outputs": [],
   "source": [
    "team1_class=str(myNamespace)+\"#team\"\n",
    "for indv in team1:\n",
    "    individualName=str(myNamespace)+\"#\"+str(indv[0])\n",
    "    arc_individual = URIRef(individualName)\n",
    "    if(isAlreadyDefined(individualName)==False): \n",
    "        triplets.append((arc_individual,RDF.type, URIRef(arc_class)))\n",
    "        triplets.append((arc_individual,RDF.type, URIRef(namedIndividual)))\n",
    "\n",
    "        subject=arc_individual\n",
    "        att_properties.append( (subject, URIRef(str(myNamespace)+\"#orderDetails\"), Literal(indv[2],datatype=XSD.string)) )\n"
   ]
  },
  {
   "cell_type": "code",
   "execution_count": 50,
   "id": "98ce5cf5",
   "metadata": {},
   "outputs": [],
   "source": [
    "team1_class=str(myNamespace)+\"#team\"\n",
    "for indv in match1:\n",
    "    individualName=str(myNamespace)+\"#\"+str(indv[0])\n",
    "    arc_individual = URIRef(individualName)\n",
    "    if(isAlreadyDefined(individualName)==False): \n",
    "        triplets.append((arc_individual,RDF.type, URIRef(arc_class)))\n",
    "        triplets.append((arc_individual,RDF.type, URIRef(namedIndividual)))\n",
    "\n",
    "        subject=arc_individual\n",
    "        att_properties.append( (subject, URIRef(str(myNamespace)+\"#orderDetails\"), Literal(indv[2],datatype=XSD.string)) )"
   ]
  },
  {
   "cell_type": "code",
   "execution_count": 52,
   "id": "958c0be9",
   "metadata": {
    "scrolled": false
   },
   "outputs": [
    {
     "data": {
      "text/plain": [
       "[(rdflib.term.URIRef('http://www.semanticweb.org/ajay/ontologies/2022/3/Volleyballonto#Johnny_Depp'),\n",
       "  rdflib.term.URIRef('http://www.semanticweb.org/ajay/ontologies/2022/3/Volleyballonto#team_id'),\n",
       "  rdflib.term.Literal('usa', datatype=rdflib.term.URIRef('http://www.w3.org/2001/XMLSchema#string'))),\n",
       " (rdflib.term.URIRef('http://www.semanticweb.org/ajay/ontologies/2022/3/Volleyballonto#Johnny_Depp'),\n",
       "  rdflib.term.URIRef('http://www.semanticweb.org/ajay/ontologies/2022/3/Volleyballonto#name'),\n",
       "  rdflib.term.Literal('Johnny Depp', datatype=rdflib.term.URIRef('http://www.w3.org/2001/XMLSchema#string'))),\n",
       " (rdflib.term.URIRef('http://www.semanticweb.org/ajay/ontologies/2022/3/Volleyballonto#Johnny_Depp'),\n",
       "  rdflib.term.URIRef('http://www.semanticweb.org/ajay/ontologies/2022/3/Volleyballonto#position'),\n",
       "  rdflib.term.Literal('1', datatype=rdflib.term.URIRef('http://www.w3.org/2001/XMLSchema#string'))),\n",
       " (rdflib.term.URIRef('http://www.semanticweb.org/ajay/ontologies/2022/3/Volleyballonto#Mike_Johnson'),\n",
       "  rdflib.term.URIRef('http://www.semanticweb.org/ajay/ontologies/2022/3/Volleyballonto#team_id'),\n",
       "  rdflib.term.Literal('usa', datatype=rdflib.term.URIRef('http://www.w3.org/2001/XMLSchema#string'))),\n",
       " (rdflib.term.URIRef('http://www.semanticweb.org/ajay/ontologies/2022/3/Volleyballonto#Mike_Johnson'),\n",
       "  rdflib.term.URIRef('http://www.semanticweb.org/ajay/ontologies/2022/3/Volleyballonto#name'),\n",
       "  rdflib.term.Literal('Mike Johnson', datatype=rdflib.term.URIRef('http://www.w3.org/2001/XMLSchema#string'))),\n",
       " (rdflib.term.URIRef('http://www.semanticweb.org/ajay/ontologies/2022/3/Volleyballonto#Mike_Johnson'),\n",
       "  rdflib.term.URIRef('http://www.semanticweb.org/ajay/ontologies/2022/3/Volleyballonto#position'),\n",
       "  rdflib.term.Literal('2', datatype=rdflib.term.URIRef('http://www.w3.org/2001/XMLSchema#string'))),\n",
       " (rdflib.term.URIRef('http://www.semanticweb.org/ajay/ontologies/2022/3/Volleyballonto#Andrew_Williams'),\n",
       "  rdflib.term.URIRef('http://www.semanticweb.org/ajay/ontologies/2022/3/Volleyballonto#team_id'),\n",
       "  rdflib.term.Literal('usa', datatype=rdflib.term.URIRef('http://www.w3.org/2001/XMLSchema#string'))),\n",
       " (rdflib.term.URIRef('http://www.semanticweb.org/ajay/ontologies/2022/3/Volleyballonto#Andrew_Williams'),\n",
       "  rdflib.term.URIRef('http://www.semanticweb.org/ajay/ontologies/2022/3/Volleyballonto#name'),\n",
       "  rdflib.term.Literal('Andrew Williams', datatype=rdflib.term.URIRef('http://www.w3.org/2001/XMLSchema#string'))),\n",
       " (rdflib.term.URIRef('http://www.semanticweb.org/ajay/ontologies/2022/3/Volleyballonto#Andrew_Williams'),\n",
       "  rdflib.term.URIRef('http://www.semanticweb.org/ajay/ontologies/2022/3/Volleyballonto#position'),\n",
       "  rdflib.term.Literal('3', datatype=rdflib.term.URIRef('http://www.w3.org/2001/XMLSchema#string'))),\n",
       " (rdflib.term.URIRef('http://www.semanticweb.org/ajay/ontologies/2022/3/Volleyballonto#David_Brown'),\n",
       "  rdflib.term.URIRef('http://www.semanticweb.org/ajay/ontologies/2022/3/Volleyballonto#team_id'),\n",
       "  rdflib.term.Literal('usa', datatype=rdflib.term.URIRef('http://www.w3.org/2001/XMLSchema#string'))),\n",
       " (rdflib.term.URIRef('http://www.semanticweb.org/ajay/ontologies/2022/3/Volleyballonto#David_Brown'),\n",
       "  rdflib.term.URIRef('http://www.semanticweb.org/ajay/ontologies/2022/3/Volleyballonto#name'),\n",
       "  rdflib.term.Literal('David Brown', datatype=rdflib.term.URIRef('http://www.w3.org/2001/XMLSchema#string'))),\n",
       " (rdflib.term.URIRef('http://www.semanticweb.org/ajay/ontologies/2022/3/Volleyballonto#David_Brown'),\n",
       "  rdflib.term.URIRef('http://www.semanticweb.org/ajay/ontologies/2022/3/Volleyballonto#position'),\n",
       "  rdflib.term.Literal('4', datatype=rdflib.term.URIRef('http://www.w3.org/2001/XMLSchema#string'))),\n",
       " (rdflib.term.URIRef('http://www.semanticweb.org/ajay/ontologies/2022/3/Volleyballonto#Paul_Lee'),\n",
       "  rdflib.term.URIRef('http://www.semanticweb.org/ajay/ontologies/2022/3/Volleyballonto#team_id'),\n",
       "  rdflib.term.Literal('usa', datatype=rdflib.term.URIRef('http://www.w3.org/2001/XMLSchema#string'))),\n",
       " (rdflib.term.URIRef('http://www.semanticweb.org/ajay/ontologies/2022/3/Volleyballonto#Paul_Lee'),\n",
       "  rdflib.term.URIRef('http://www.semanticweb.org/ajay/ontologies/2022/3/Volleyballonto#name'),\n",
       "  rdflib.term.Literal('Paul Lee', datatype=rdflib.term.URIRef('http://www.w3.org/2001/XMLSchema#string'))),\n",
       " (rdflib.term.URIRef('http://www.semanticweb.org/ajay/ontologies/2022/3/Volleyballonto#Paul_Lee'),\n",
       "  rdflib.term.URIRef('http://www.semanticweb.org/ajay/ontologies/2022/3/Volleyballonto#position'),\n",
       "  rdflib.term.Literal('5', datatype=rdflib.term.URIRef('http://www.w3.org/2001/XMLSchema#string'))),\n",
       " (rdflib.term.URIRef('http://www.semanticweb.org/ajay/ontologies/2022/3/Volleyballonto#Chris_Green'),\n",
       "  rdflib.term.URIRef('http://www.semanticweb.org/ajay/ontologies/2022/3/Volleyballonto#team_id'),\n",
       "  rdflib.term.Literal('usa', datatype=rdflib.term.URIRef('http://www.w3.org/2001/XMLSchema#string'))),\n",
       " (rdflib.term.URIRef('http://www.semanticweb.org/ajay/ontologies/2022/3/Volleyballonto#Chris_Green'),\n",
       "  rdflib.term.URIRef('http://www.semanticweb.org/ajay/ontologies/2022/3/Volleyballonto#name'),\n",
       "  rdflib.term.Literal('Chris Green', datatype=rdflib.term.URIRef('http://www.w3.org/2001/XMLSchema#string'))),\n",
       " (rdflib.term.URIRef('http://www.semanticweb.org/ajay/ontologies/2022/3/Volleyballonto#Chris_Green'),\n",
       "  rdflib.term.URIRef('http://www.semanticweb.org/ajay/ontologies/2022/3/Volleyballonto#position'),\n",
       "  rdflib.term.Literal('6', datatype=rdflib.term.URIRef('http://www.w3.org/2001/XMLSchema#string'))),\n",
       " (rdflib.term.URIRef('http://www.semanticweb.org/ajay/ontologies/2022/3/Volleyballonto#Jordan_Larson'),\n",
       "  rdflib.term.URIRef('http://www.semanticweb.org/ajay/ontologies/2022/3/Volleyballonto#team_id'),\n",
       "  rdflib.term.Literal('canada', datatype=rdflib.term.URIRef('http://www.w3.org/2001/XMLSchema#string'))),\n",
       " (rdflib.term.URIRef('http://www.semanticweb.org/ajay/ontologies/2022/3/Volleyballonto#Jordan_Larson'),\n",
       "  rdflib.term.URIRef('http://www.semanticweb.org/ajay/ontologies/2022/3/Volleyballonto#name'),\n",
       "  rdflib.term.Literal('Jordan Larson', datatype=rdflib.term.URIRef('http://www.w3.org/2001/XMLSchema#string'))),\n",
       " (rdflib.term.URIRef('http://www.semanticweb.org/ajay/ontologies/2022/3/Volleyballonto#Jordan_Larson'),\n",
       "  rdflib.term.URIRef('http://www.semanticweb.org/ajay/ontologies/2022/3/Volleyballonto#position'),\n",
       "  rdflib.term.Literal('1', datatype=rdflib.term.URIRef('http://www.w3.org/2001/XMLSchema#string'))),\n",
       " (rdflib.term.URIRef('http://www.semanticweb.org/ajay/ontologies/2022/3/Volleyballonto#Foluke_Akinradewo_Gunderson'),\n",
       "  rdflib.term.URIRef('http://www.semanticweb.org/ajay/ontologies/2022/3/Volleyballonto#team_id'),\n",
       "  rdflib.term.Literal('canada', datatype=rdflib.term.URIRef('http://www.w3.org/2001/XMLSchema#string'))),\n",
       " (rdflib.term.URIRef('http://www.semanticweb.org/ajay/ontologies/2022/3/Volleyballonto#Foluke_Akinradewo_Gunderson'),\n",
       "  rdflib.term.URIRef('http://www.semanticweb.org/ajay/ontologies/2022/3/Volleyballonto#name'),\n",
       "  rdflib.term.Literal('Foluke Akinradewo Gunderson', datatype=rdflib.term.URIRef('http://www.w3.org/2001/XMLSchema#string'))),\n",
       " (rdflib.term.URIRef('http://www.semanticweb.org/ajay/ontologies/2022/3/Volleyballonto#Foluke_Akinradewo_Gunderson'),\n",
       "  rdflib.term.URIRef('http://www.semanticweb.org/ajay/ontologies/2022/3/Volleyballonto#position'),\n",
       "  rdflib.term.Literal('2', datatype=rdflib.term.URIRef('http://www.w3.org/2001/XMLSchema#string'))),\n",
       " (rdflib.term.URIRef('http://www.semanticweb.org/ajay/ontologies/2022/3/Volleyballonto#Jordan_Thompson'),\n",
       "  rdflib.term.URIRef('http://www.semanticweb.org/ajay/ontologies/2022/3/Volleyballonto#team_id'),\n",
       "  rdflib.term.Literal('canada', datatype=rdflib.term.URIRef('http://www.w3.org/2001/XMLSchema#string'))),\n",
       " (rdflib.term.URIRef('http://www.semanticweb.org/ajay/ontologies/2022/3/Volleyballonto#Jordan_Thompson'),\n",
       "  rdflib.term.URIRef('http://www.semanticweb.org/ajay/ontologies/2022/3/Volleyballonto#name'),\n",
       "  rdflib.term.Literal('Jordan Thompson', datatype=rdflib.term.URIRef('http://www.w3.org/2001/XMLSchema#string'))),\n",
       " (rdflib.term.URIRef('http://www.semanticweb.org/ajay/ontologies/2022/3/Volleyballonto#Jordan_Thompson'),\n",
       "  rdflib.term.URIRef('http://www.semanticweb.org/ajay/ontologies/2022/3/Volleyballonto#position'),\n",
       "  rdflib.term.Literal('3', datatype=rdflib.term.URIRef('http://www.w3.org/2001/XMLSchema#string'))),\n",
       " (rdflib.term.URIRef('http://www.semanticweb.org/ajay/ontologies/2022/3/Volleyballonto#Kelsey_Robinson'),\n",
       "  rdflib.term.URIRef('http://www.semanticweb.org/ajay/ontologies/2022/3/Volleyballonto#team_id'),\n",
       "  rdflib.term.Literal('canada', datatype=rdflib.term.URIRef('http://www.w3.org/2001/XMLSchema#string'))),\n",
       " (rdflib.term.URIRef('http://www.semanticweb.org/ajay/ontologies/2022/3/Volleyballonto#Kelsey_Robinson'),\n",
       "  rdflib.term.URIRef('http://www.semanticweb.org/ajay/ontologies/2022/3/Volleyballonto#name'),\n",
       "  rdflib.term.Literal('Kelsey Robinson', datatype=rdflib.term.URIRef('http://www.w3.org/2001/XMLSchema#string'))),\n",
       " (rdflib.term.URIRef('http://www.semanticweb.org/ajay/ontologies/2022/3/Volleyballonto#Kelsey_Robinson'),\n",
       "  rdflib.term.URIRef('http://www.semanticweb.org/ajay/ontologies/2022/3/Volleyballonto#position'),\n",
       "  rdflib.term.Literal('4', datatype=rdflib.term.URIRef('http://www.w3.org/2001/XMLSchema#string'))),\n",
       " (rdflib.term.URIRef('http://www.semanticweb.org/ajay/ontologies/2022/3/Volleyballonto#Mike_Adams'),\n",
       "  rdflib.term.URIRef('http://www.semanticweb.org/ajay/ontologies/2022/3/Volleyballonto#team_id'),\n",
       "  rdflib.term.Literal('canada', datatype=rdflib.term.URIRef('http://www.w3.org/2001/XMLSchema#string'))),\n",
       " (rdflib.term.URIRef('http://www.semanticweb.org/ajay/ontologies/2022/3/Volleyballonto#Mike_Adams'),\n",
       "  rdflib.term.URIRef('http://www.semanticweb.org/ajay/ontologies/2022/3/Volleyballonto#name'),\n",
       "  rdflib.term.Literal('Mike Adams', datatype=rdflib.term.URIRef('http://www.w3.org/2001/XMLSchema#string'))),\n",
       " (rdflib.term.URIRef('http://www.semanticweb.org/ajay/ontologies/2022/3/Volleyballonto#Mike_Adams'),\n",
       "  rdflib.term.URIRef('http://www.semanticweb.org/ajay/ontologies/2022/3/Volleyballonto#position'),\n",
       "  rdflib.term.Literal('5', datatype=rdflib.term.URIRef('http://www.w3.org/2001/XMLSchema#string'))),\n",
       " (rdflib.term.URIRef('http://www.semanticweb.org/ajay/ontologies/2022/3/Volleyballonto#Peter_Hill'),\n",
       "  rdflib.term.URIRef('http://www.semanticweb.org/ajay/ontologies/2022/3/Volleyballonto#team_id'),\n",
       "  rdflib.term.Literal('canada', datatype=rdflib.term.URIRef('http://www.w3.org/2001/XMLSchema#string'))),\n",
       " (rdflib.term.URIRef('http://www.semanticweb.org/ajay/ontologies/2022/3/Volleyballonto#Peter_Hill'),\n",
       "  rdflib.term.URIRef('http://www.semanticweb.org/ajay/ontologies/2022/3/Volleyballonto#name'),\n",
       "  rdflib.term.Literal('Peter Hill', datatype=rdflib.term.URIRef('http://www.w3.org/2001/XMLSchema#string'))),\n",
       " (rdflib.term.URIRef('http://www.semanticweb.org/ajay/ontologies/2022/3/Volleyballonto#Peter_Hill'),\n",
       "  rdflib.term.URIRef('http://www.semanticweb.org/ajay/ontologies/2022/3/Volleyballonto#position'),\n",
       "  rdflib.term.Literal('6', datatype=rdflib.term.URIRef('http://www.w3.org/2001/XMLSchema#string'))),\n",
       " (rdflib.term.URIRef('http://www.semanticweb.org/ajay/ontologies/2022/3/Volleyballonto#A001'),\n",
       "  rdflib.term.URIRef('http://www.semanticweb.org/ajay/ontologies/2022/3/Volleyballonto#orderDetails'),\n",
       "  rdflib.term.Literal(\"<Element 'team1' at 0x000001F984106720>\", datatype=rdflib.term.URIRef('http://www.w3.org/2001/XMLSchema#string'))),\n",
       " (rdflib.term.URIRef('http://www.semanticweb.org/ajay/ontologies/2022/3/Volleyballonto#A001'),\n",
       "  rdflib.term.URIRef('http://www.semanticweb.org/ajay/ontologies/2022/3/Volleyballonto#orderDetails'),\n",
       "  rdflib.term.Literal(\"<Element 'team1' at 0x000001F984106720>\", datatype=rdflib.term.URIRef('http://www.w3.org/2001/XMLSchema#string')))]"
      ]
     },
     "execution_count": 52,
     "metadata": {},
     "output_type": "execute_result"
    }
   ],
   "source": [
    "att_properties"
   ]
  },
  {
   "cell_type": "markdown",
   "id": "17fcd4eb",
   "metadata": {},
   "source": [
    "# Add object properties \"hasplayer\"\n",
    "#### Team hasplaer player\n",
    "#### Use attribute teamid hasplayer played in the XML to make the mapping"
   ]
  },
  {
   "cell_type": "code",
   "execution_count": 54,
   "id": "c78b7dbd",
   "metadata": {},
   "outputs": [],
   "source": [
    "for team in team1:\n",
    "    individualName=str(myNamespace)+\"#\"+str(team[0]).replace(' ','_')  \n",
    "    sub = URIRef(individualName)         \n",
    "    pred=URIRef((myNamespace)+\"#hasplayer\")\n",
    "\n",
    "    for ord in allplayer: \n",
    "        if(ord[0]==team[0]):\n",
    "            individualName=str(myNamespace)+\"#\"+str(ord[0]).replace(' ','_') \n",
    "            obj = URIRef(individualName)\n",
    "            obj_properties.append((sub,pred,obj))  "
   ]
  },
  {
   "cell_type": "markdown",
   "id": "3899905c",
   "metadata": {},
   "source": [
    "# Add object properties \"hasname\"\n",
    "#### Order hasname name\n",
    "#### Use attribute teamid played team in the XML to make the mapping"
   ]
  },
  {
   "cell_type": "code",
   "execution_count": 56,
   "id": "34640d33",
   "metadata": {},
   "outputs": [],
   "source": [
    "for order in allplayer:\n",
    "    individualName=str(myNamespace)+\"#\"+str(order[0]).replace(' ','_')\n",
    "    sub = URIRef(individualName)         \n",
    "    pred=URIRef((myNamespace)+\"#hasname\")\n",
    "    \n",
    "    individualName=str(myNamespace)+\"#\"+str(order[1]).replace(' ','_') \n",
    "    obj = URIRef(individualName)\n",
    "    obj_properties.append((sub,pred,obj))  "
   ]
  },
  {
   "cell_type": "code",
   "execution_count": 57,
   "id": "4c4723f2",
   "metadata": {
    "scrolled": true
   },
   "outputs": [
    {
     "name": "stdout",
     "output_type": "stream",
     "text": [
      "(rdflib.term.URIRef('http://www.semanticweb.org/ajay/ontologies/2022/3/Volleyballonto#usa'), rdflib.term.URIRef('http://www.semanticweb.org/ajay/ontologies/2022/3/Volleyballonto#hasname'), rdflib.term.URIRef('http://www.semanticweb.org/ajay/ontologies/2022/3/Volleyballonto#Johnny_Depp'))\n",
      "(rdflib.term.URIRef('http://www.semanticweb.org/ajay/ontologies/2022/3/Volleyballonto#usa'), rdflib.term.URIRef('http://www.semanticweb.org/ajay/ontologies/2022/3/Volleyballonto#hasname'), rdflib.term.URIRef('http://www.semanticweb.org/ajay/ontologies/2022/3/Volleyballonto#Mike_Johnson'))\n",
      "(rdflib.term.URIRef('http://www.semanticweb.org/ajay/ontologies/2022/3/Volleyballonto#usa'), rdflib.term.URIRef('http://www.semanticweb.org/ajay/ontologies/2022/3/Volleyballonto#hasname'), rdflib.term.URIRef('http://www.semanticweb.org/ajay/ontologies/2022/3/Volleyballonto#Andrew_Williams'))\n",
      "(rdflib.term.URIRef('http://www.semanticweb.org/ajay/ontologies/2022/3/Volleyballonto#usa'), rdflib.term.URIRef('http://www.semanticweb.org/ajay/ontologies/2022/3/Volleyballonto#hasname'), rdflib.term.URIRef('http://www.semanticweb.org/ajay/ontologies/2022/3/Volleyballonto#David_Brown'))\n",
      "(rdflib.term.URIRef('http://www.semanticweb.org/ajay/ontologies/2022/3/Volleyballonto#usa'), rdflib.term.URIRef('http://www.semanticweb.org/ajay/ontologies/2022/3/Volleyballonto#hasname'), rdflib.term.URIRef('http://www.semanticweb.org/ajay/ontologies/2022/3/Volleyballonto#Paul_Lee'))\n",
      "(rdflib.term.URIRef('http://www.semanticweb.org/ajay/ontologies/2022/3/Volleyballonto#usa'), rdflib.term.URIRef('http://www.semanticweb.org/ajay/ontologies/2022/3/Volleyballonto#hasname'), rdflib.term.URIRef('http://www.semanticweb.org/ajay/ontologies/2022/3/Volleyballonto#Chris_Green'))\n",
      "(rdflib.term.URIRef('http://www.semanticweb.org/ajay/ontologies/2022/3/Volleyballonto#canada'), rdflib.term.URIRef('http://www.semanticweb.org/ajay/ontologies/2022/3/Volleyballonto#hasname'), rdflib.term.URIRef('http://www.semanticweb.org/ajay/ontologies/2022/3/Volleyballonto#Jordan_Larson'))\n",
      "(rdflib.term.URIRef('http://www.semanticweb.org/ajay/ontologies/2022/3/Volleyballonto#canada'), rdflib.term.URIRef('http://www.semanticweb.org/ajay/ontologies/2022/3/Volleyballonto#hasname'), rdflib.term.URIRef('http://www.semanticweb.org/ajay/ontologies/2022/3/Volleyballonto#Foluke_Akinradewo_Gunderson'))\n",
      "(rdflib.term.URIRef('http://www.semanticweb.org/ajay/ontologies/2022/3/Volleyballonto#canada'), rdflib.term.URIRef('http://www.semanticweb.org/ajay/ontologies/2022/3/Volleyballonto#hasname'), rdflib.term.URIRef('http://www.semanticweb.org/ajay/ontologies/2022/3/Volleyballonto#Jordan_Thompson'))\n",
      "(rdflib.term.URIRef('http://www.semanticweb.org/ajay/ontologies/2022/3/Volleyballonto#canada'), rdflib.term.URIRef('http://www.semanticweb.org/ajay/ontologies/2022/3/Volleyballonto#hasname'), rdflib.term.URIRef('http://www.semanticweb.org/ajay/ontologies/2022/3/Volleyballonto#Kelsey_Robinson'))\n",
      "(rdflib.term.URIRef('http://www.semanticweb.org/ajay/ontologies/2022/3/Volleyballonto#canada'), rdflib.term.URIRef('http://www.semanticweb.org/ajay/ontologies/2022/3/Volleyballonto#hasname'), rdflib.term.URIRef('http://www.semanticweb.org/ajay/ontologies/2022/3/Volleyballonto#Mike_Adams'))\n",
      "(rdflib.term.URIRef('http://www.semanticweb.org/ajay/ontologies/2022/3/Volleyballonto#canada'), rdflib.term.URIRef('http://www.semanticweb.org/ajay/ontologies/2022/3/Volleyballonto#hasname'), rdflib.term.URIRef('http://www.semanticweb.org/ajay/ontologies/2022/3/Volleyballonto#Peter_Hill'))\n"
     ]
    }
   ],
   "source": [
    "print(*obj_properties, sep = \"\\n\")"
   ]
  },
  {
   "cell_type": "markdown",
   "id": "8ef3c056",
   "metadata": {},
   "source": [
    "# Print triplets"
   ]
  },
  {
   "cell_type": "code",
   "execution_count": 61,
   "id": "70cd3695",
   "metadata": {},
   "outputs": [
    {
     "name": "stdout",
     "output_type": "stream",
     "text": [
      "(rdflib.term.URIRef('http://www.semanticweb.org/ajay/ontologies/2022/3/Volleyballonto#Johnny_Depp'), rdflib.term.URIRef('http://www.w3.org/1999/02/22-rdf-syntax-ns#type'), rdflib.term.URIRef('http://www.semanticweb.org/ajay/ontologies/2022/3/Volleyballonto#allplayer'))\n",
      "(rdflib.term.URIRef('http://www.semanticweb.org/ajay/ontologies/2022/3/Volleyballonto#Johnny_Depp'), rdflib.term.URIRef('http://www.w3.org/1999/02/22-rdf-syntax-ns#type'), rdflib.term.URIRef('http://www.w3.org/2002/07/owl#NamedIndividual'))\n",
      "(rdflib.term.URIRef('http://www.semanticweb.org/ajay/ontologies/2022/3/Volleyballonto#Mike_Johnson'), rdflib.term.URIRef('http://www.w3.org/1999/02/22-rdf-syntax-ns#type'), rdflib.term.URIRef('http://www.semanticweb.org/ajay/ontologies/2022/3/Volleyballonto#allplayer'))\n",
      "(rdflib.term.URIRef('http://www.semanticweb.org/ajay/ontologies/2022/3/Volleyballonto#Mike_Johnson'), rdflib.term.URIRef('http://www.w3.org/1999/02/22-rdf-syntax-ns#type'), rdflib.term.URIRef('http://www.w3.org/2002/07/owl#NamedIndividual'))\n",
      "(rdflib.term.URIRef('http://www.semanticweb.org/ajay/ontologies/2022/3/Volleyballonto#Andrew_Williams'), rdflib.term.URIRef('http://www.w3.org/1999/02/22-rdf-syntax-ns#type'), rdflib.term.URIRef('http://www.semanticweb.org/ajay/ontologies/2022/3/Volleyballonto#allplayer'))\n",
      "(rdflib.term.URIRef('http://www.semanticweb.org/ajay/ontologies/2022/3/Volleyballonto#Andrew_Williams'), rdflib.term.URIRef('http://www.w3.org/1999/02/22-rdf-syntax-ns#type'), rdflib.term.URIRef('http://www.w3.org/2002/07/owl#NamedIndividual'))\n",
      "(rdflib.term.URIRef('http://www.semanticweb.org/ajay/ontologies/2022/3/Volleyballonto#David_Brown'), rdflib.term.URIRef('http://www.w3.org/1999/02/22-rdf-syntax-ns#type'), rdflib.term.URIRef('http://www.semanticweb.org/ajay/ontologies/2022/3/Volleyballonto#allplayer'))\n",
      "(rdflib.term.URIRef('http://www.semanticweb.org/ajay/ontologies/2022/3/Volleyballonto#David_Brown'), rdflib.term.URIRef('http://www.w3.org/1999/02/22-rdf-syntax-ns#type'), rdflib.term.URIRef('http://www.w3.org/2002/07/owl#NamedIndividual'))\n",
      "(rdflib.term.URIRef('http://www.semanticweb.org/ajay/ontologies/2022/3/Volleyballonto#Paul_Lee'), rdflib.term.URIRef('http://www.w3.org/1999/02/22-rdf-syntax-ns#type'), rdflib.term.URIRef('http://www.semanticweb.org/ajay/ontologies/2022/3/Volleyballonto#allplayer'))\n",
      "(rdflib.term.URIRef('http://www.semanticweb.org/ajay/ontologies/2022/3/Volleyballonto#Paul_Lee'), rdflib.term.URIRef('http://www.w3.org/1999/02/22-rdf-syntax-ns#type'), rdflib.term.URIRef('http://www.w3.org/2002/07/owl#NamedIndividual'))\n",
      "(rdflib.term.URIRef('http://www.semanticweb.org/ajay/ontologies/2022/3/Volleyballonto#Chris_Green'), rdflib.term.URIRef('http://www.w3.org/1999/02/22-rdf-syntax-ns#type'), rdflib.term.URIRef('http://www.semanticweb.org/ajay/ontologies/2022/3/Volleyballonto#allplayer'))\n",
      "(rdflib.term.URIRef('http://www.semanticweb.org/ajay/ontologies/2022/3/Volleyballonto#Chris_Green'), rdflib.term.URIRef('http://www.w3.org/1999/02/22-rdf-syntax-ns#type'), rdflib.term.URIRef('http://www.w3.org/2002/07/owl#NamedIndividual'))\n",
      "(rdflib.term.URIRef('http://www.semanticweb.org/ajay/ontologies/2022/3/Volleyballonto#Jordan_Larson'), rdflib.term.URIRef('http://www.w3.org/1999/02/22-rdf-syntax-ns#type'), rdflib.term.URIRef('http://www.semanticweb.org/ajay/ontologies/2022/3/Volleyballonto#allplayer'))\n",
      "(rdflib.term.URIRef('http://www.semanticweb.org/ajay/ontologies/2022/3/Volleyballonto#Jordan_Larson'), rdflib.term.URIRef('http://www.w3.org/1999/02/22-rdf-syntax-ns#type'), rdflib.term.URIRef('http://www.w3.org/2002/07/owl#NamedIndividual'))\n",
      "(rdflib.term.URIRef('http://www.semanticweb.org/ajay/ontologies/2022/3/Volleyballonto#Foluke_Akinradewo_Gunderson'), rdflib.term.URIRef('http://www.w3.org/1999/02/22-rdf-syntax-ns#type'), rdflib.term.URIRef('http://www.semanticweb.org/ajay/ontologies/2022/3/Volleyballonto#allplayer'))\n",
      "(rdflib.term.URIRef('http://www.semanticweb.org/ajay/ontologies/2022/3/Volleyballonto#Foluke_Akinradewo_Gunderson'), rdflib.term.URIRef('http://www.w3.org/1999/02/22-rdf-syntax-ns#type'), rdflib.term.URIRef('http://www.w3.org/2002/07/owl#NamedIndividual'))\n",
      "(rdflib.term.URIRef('http://www.semanticweb.org/ajay/ontologies/2022/3/Volleyballonto#Jordan_Thompson'), rdflib.term.URIRef('http://www.w3.org/1999/02/22-rdf-syntax-ns#type'), rdflib.term.URIRef('http://www.semanticweb.org/ajay/ontologies/2022/3/Volleyballonto#allplayer'))\n",
      "(rdflib.term.URIRef('http://www.semanticweb.org/ajay/ontologies/2022/3/Volleyballonto#Jordan_Thompson'), rdflib.term.URIRef('http://www.w3.org/1999/02/22-rdf-syntax-ns#type'), rdflib.term.URIRef('http://www.w3.org/2002/07/owl#NamedIndividual'))\n",
      "(rdflib.term.URIRef('http://www.semanticweb.org/ajay/ontologies/2022/3/Volleyballonto#Kelsey_Robinson'), rdflib.term.URIRef('http://www.w3.org/1999/02/22-rdf-syntax-ns#type'), rdflib.term.URIRef('http://www.semanticweb.org/ajay/ontologies/2022/3/Volleyballonto#allplayer'))\n",
      "(rdflib.term.URIRef('http://www.semanticweb.org/ajay/ontologies/2022/3/Volleyballonto#Kelsey_Robinson'), rdflib.term.URIRef('http://www.w3.org/1999/02/22-rdf-syntax-ns#type'), rdflib.term.URIRef('http://www.w3.org/2002/07/owl#NamedIndividual'))\n",
      "(rdflib.term.URIRef('http://www.semanticweb.org/ajay/ontologies/2022/3/Volleyballonto#Mike_Adams'), rdflib.term.URIRef('http://www.w3.org/1999/02/22-rdf-syntax-ns#type'), rdflib.term.URIRef('http://www.semanticweb.org/ajay/ontologies/2022/3/Volleyballonto#allplayer'))\n",
      "(rdflib.term.URIRef('http://www.semanticweb.org/ajay/ontologies/2022/3/Volleyballonto#Mike_Adams'), rdflib.term.URIRef('http://www.w3.org/1999/02/22-rdf-syntax-ns#type'), rdflib.term.URIRef('http://www.w3.org/2002/07/owl#NamedIndividual'))\n",
      "(rdflib.term.URIRef('http://www.semanticweb.org/ajay/ontologies/2022/3/Volleyballonto#Peter_Hill'), rdflib.term.URIRef('http://www.w3.org/1999/02/22-rdf-syntax-ns#type'), rdflib.term.URIRef('http://www.semanticweb.org/ajay/ontologies/2022/3/Volleyballonto#allplayer'))\n",
      "(rdflib.term.URIRef('http://www.semanticweb.org/ajay/ontologies/2022/3/Volleyballonto#Peter_Hill'), rdflib.term.URIRef('http://www.w3.org/1999/02/22-rdf-syntax-ns#type'), rdflib.term.URIRef('http://www.w3.org/2002/07/owl#NamedIndividual'))\n",
      "(rdflib.term.URIRef('http://www.semanticweb.org/ajay/ontologies/2022/3/Volleyballonto#A001'), rdflib.term.URIRef('http://www.w3.org/1999/02/22-rdf-syntax-ns#type'), rdflib.term.URIRef('http://www.semanticweb.org/ajay/ontologies/2022/3/Volleyballonto#allplayer'))\n",
      "(rdflib.term.URIRef('http://www.semanticweb.org/ajay/ontologies/2022/3/Volleyballonto#A001'), rdflib.term.URIRef('http://www.w3.org/1999/02/22-rdf-syntax-ns#type'), rdflib.term.URIRef('http://www.w3.org/2002/07/owl#NamedIndividual'))\n",
      "(rdflib.term.URIRef('http://www.semanticweb.org/ajay/ontologies/2022/3/Volleyballonto#A001'), rdflib.term.URIRef('http://www.w3.org/1999/02/22-rdf-syntax-ns#type'), rdflib.term.URIRef('http://www.semanticweb.org/ajay/ontologies/2022/3/Volleyballonto#allplayer'))\n",
      "(rdflib.term.URIRef('http://www.semanticweb.org/ajay/ontologies/2022/3/Volleyballonto#A001'), rdflib.term.URIRef('http://www.w3.org/1999/02/22-rdf-syntax-ns#type'), rdflib.term.URIRef('http://www.w3.org/2002/07/owl#NamedIndividual'))\n"
     ]
    }
   ],
   "source": [
    "for triplet in triplets:\n",
    "    print(triplet)"
   ]
  },
  {
   "cell_type": "code",
   "execution_count": 62,
   "id": "b992ea0d",
   "metadata": {},
   "outputs": [
    {
     "name": "stdout",
     "output_type": "stream",
     "text": [
      "(rdflib.term.URIRef('http://www.semanticweb.org/ajay/ontologies/2022/3/Volleyballonto#usa'), rdflib.term.URIRef('http://www.semanticweb.org/ajay/ontologies/2022/3/Volleyballonto#hasname'), rdflib.term.URIRef('http://www.semanticweb.org/ajay/ontologies/2022/3/Volleyballonto#Johnny_Depp'))\n",
      "(rdflib.term.URIRef('http://www.semanticweb.org/ajay/ontologies/2022/3/Volleyballonto#usa'), rdflib.term.URIRef('http://www.semanticweb.org/ajay/ontologies/2022/3/Volleyballonto#hasname'), rdflib.term.URIRef('http://www.semanticweb.org/ajay/ontologies/2022/3/Volleyballonto#Mike_Johnson'))\n",
      "(rdflib.term.URIRef('http://www.semanticweb.org/ajay/ontologies/2022/3/Volleyballonto#usa'), rdflib.term.URIRef('http://www.semanticweb.org/ajay/ontologies/2022/3/Volleyballonto#hasname'), rdflib.term.URIRef('http://www.semanticweb.org/ajay/ontologies/2022/3/Volleyballonto#Andrew_Williams'))\n",
      "(rdflib.term.URIRef('http://www.semanticweb.org/ajay/ontologies/2022/3/Volleyballonto#usa'), rdflib.term.URIRef('http://www.semanticweb.org/ajay/ontologies/2022/3/Volleyballonto#hasname'), rdflib.term.URIRef('http://www.semanticweb.org/ajay/ontologies/2022/3/Volleyballonto#David_Brown'))\n",
      "(rdflib.term.URIRef('http://www.semanticweb.org/ajay/ontologies/2022/3/Volleyballonto#usa'), rdflib.term.URIRef('http://www.semanticweb.org/ajay/ontologies/2022/3/Volleyballonto#hasname'), rdflib.term.URIRef('http://www.semanticweb.org/ajay/ontologies/2022/3/Volleyballonto#Paul_Lee'))\n",
      "(rdflib.term.URIRef('http://www.semanticweb.org/ajay/ontologies/2022/3/Volleyballonto#usa'), rdflib.term.URIRef('http://www.semanticweb.org/ajay/ontologies/2022/3/Volleyballonto#hasname'), rdflib.term.URIRef('http://www.semanticweb.org/ajay/ontologies/2022/3/Volleyballonto#Chris_Green'))\n",
      "(rdflib.term.URIRef('http://www.semanticweb.org/ajay/ontologies/2022/3/Volleyballonto#canada'), rdflib.term.URIRef('http://www.semanticweb.org/ajay/ontologies/2022/3/Volleyballonto#hasname'), rdflib.term.URIRef('http://www.semanticweb.org/ajay/ontologies/2022/3/Volleyballonto#Jordan_Larson'))\n",
      "(rdflib.term.URIRef('http://www.semanticweb.org/ajay/ontologies/2022/3/Volleyballonto#canada'), rdflib.term.URIRef('http://www.semanticweb.org/ajay/ontologies/2022/3/Volleyballonto#hasname'), rdflib.term.URIRef('http://www.semanticweb.org/ajay/ontologies/2022/3/Volleyballonto#Foluke_Akinradewo_Gunderson'))\n",
      "(rdflib.term.URIRef('http://www.semanticweb.org/ajay/ontologies/2022/3/Volleyballonto#canada'), rdflib.term.URIRef('http://www.semanticweb.org/ajay/ontologies/2022/3/Volleyballonto#hasname'), rdflib.term.URIRef('http://www.semanticweb.org/ajay/ontologies/2022/3/Volleyballonto#Jordan_Thompson'))\n",
      "(rdflib.term.URIRef('http://www.semanticweb.org/ajay/ontologies/2022/3/Volleyballonto#canada'), rdflib.term.URIRef('http://www.semanticweb.org/ajay/ontologies/2022/3/Volleyballonto#hasname'), rdflib.term.URIRef('http://www.semanticweb.org/ajay/ontologies/2022/3/Volleyballonto#Kelsey_Robinson'))\n",
      "(rdflib.term.URIRef('http://www.semanticweb.org/ajay/ontologies/2022/3/Volleyballonto#canada'), rdflib.term.URIRef('http://www.semanticweb.org/ajay/ontologies/2022/3/Volleyballonto#hasname'), rdflib.term.URIRef('http://www.semanticweb.org/ajay/ontologies/2022/3/Volleyballonto#Mike_Adams'))\n",
      "(rdflib.term.URIRef('http://www.semanticweb.org/ajay/ontologies/2022/3/Volleyballonto#canada'), rdflib.term.URIRef('http://www.semanticweb.org/ajay/ontologies/2022/3/Volleyballonto#hasname'), rdflib.term.URIRef('http://www.semanticweb.org/ajay/ontologies/2022/3/Volleyballonto#Peter_Hill'))\n"
     ]
    }
   ],
   "source": [
    "for o in obj_properties:\n",
    "    print(o)"
   ]
  },
  {
   "cell_type": "code",
   "execution_count": 63,
   "id": "43c7008c",
   "metadata": {},
   "outputs": [
    {
     "name": "stdout",
     "output_type": "stream",
     "text": [
      "(rdflib.term.URIRef('http://www.semanticweb.org/ajay/ontologies/2022/3/Volleyballonto#Johnny_Depp'), rdflib.term.URIRef('http://www.semanticweb.org/ajay/ontologies/2022/3/Volleyballonto#team_id'), rdflib.term.Literal('usa', datatype=rdflib.term.URIRef('http://www.w3.org/2001/XMLSchema#string')))\n",
      "(rdflib.term.URIRef('http://www.semanticweb.org/ajay/ontologies/2022/3/Volleyballonto#Johnny_Depp'), rdflib.term.URIRef('http://www.semanticweb.org/ajay/ontologies/2022/3/Volleyballonto#name'), rdflib.term.Literal('Johnny Depp', datatype=rdflib.term.URIRef('http://www.w3.org/2001/XMLSchema#string')))\n",
      "(rdflib.term.URIRef('http://www.semanticweb.org/ajay/ontologies/2022/3/Volleyballonto#Johnny_Depp'), rdflib.term.URIRef('http://www.semanticweb.org/ajay/ontologies/2022/3/Volleyballonto#position'), rdflib.term.Literal('1', datatype=rdflib.term.URIRef('http://www.w3.org/2001/XMLSchema#string')))\n",
      "(rdflib.term.URIRef('http://www.semanticweb.org/ajay/ontologies/2022/3/Volleyballonto#Mike_Johnson'), rdflib.term.URIRef('http://www.semanticweb.org/ajay/ontologies/2022/3/Volleyballonto#team_id'), rdflib.term.Literal('usa', datatype=rdflib.term.URIRef('http://www.w3.org/2001/XMLSchema#string')))\n",
      "(rdflib.term.URIRef('http://www.semanticweb.org/ajay/ontologies/2022/3/Volleyballonto#Mike_Johnson'), rdflib.term.URIRef('http://www.semanticweb.org/ajay/ontologies/2022/3/Volleyballonto#name'), rdflib.term.Literal('Mike Johnson', datatype=rdflib.term.URIRef('http://www.w3.org/2001/XMLSchema#string')))\n",
      "(rdflib.term.URIRef('http://www.semanticweb.org/ajay/ontologies/2022/3/Volleyballonto#Mike_Johnson'), rdflib.term.URIRef('http://www.semanticweb.org/ajay/ontologies/2022/3/Volleyballonto#position'), rdflib.term.Literal('2', datatype=rdflib.term.URIRef('http://www.w3.org/2001/XMLSchema#string')))\n",
      "(rdflib.term.URIRef('http://www.semanticweb.org/ajay/ontologies/2022/3/Volleyballonto#Andrew_Williams'), rdflib.term.URIRef('http://www.semanticweb.org/ajay/ontologies/2022/3/Volleyballonto#team_id'), rdflib.term.Literal('usa', datatype=rdflib.term.URIRef('http://www.w3.org/2001/XMLSchema#string')))\n",
      "(rdflib.term.URIRef('http://www.semanticweb.org/ajay/ontologies/2022/3/Volleyballonto#Andrew_Williams'), rdflib.term.URIRef('http://www.semanticweb.org/ajay/ontologies/2022/3/Volleyballonto#name'), rdflib.term.Literal('Andrew Williams', datatype=rdflib.term.URIRef('http://www.w3.org/2001/XMLSchema#string')))\n",
      "(rdflib.term.URIRef('http://www.semanticweb.org/ajay/ontologies/2022/3/Volleyballonto#Andrew_Williams'), rdflib.term.URIRef('http://www.semanticweb.org/ajay/ontologies/2022/3/Volleyballonto#position'), rdflib.term.Literal('3', datatype=rdflib.term.URIRef('http://www.w3.org/2001/XMLSchema#string')))\n",
      "(rdflib.term.URIRef('http://www.semanticweb.org/ajay/ontologies/2022/3/Volleyballonto#David_Brown'), rdflib.term.URIRef('http://www.semanticweb.org/ajay/ontologies/2022/3/Volleyballonto#team_id'), rdflib.term.Literal('usa', datatype=rdflib.term.URIRef('http://www.w3.org/2001/XMLSchema#string')))\n",
      "(rdflib.term.URIRef('http://www.semanticweb.org/ajay/ontologies/2022/3/Volleyballonto#David_Brown'), rdflib.term.URIRef('http://www.semanticweb.org/ajay/ontologies/2022/3/Volleyballonto#name'), rdflib.term.Literal('David Brown', datatype=rdflib.term.URIRef('http://www.w3.org/2001/XMLSchema#string')))\n",
      "(rdflib.term.URIRef('http://www.semanticweb.org/ajay/ontologies/2022/3/Volleyballonto#David_Brown'), rdflib.term.URIRef('http://www.semanticweb.org/ajay/ontologies/2022/3/Volleyballonto#position'), rdflib.term.Literal('4', datatype=rdflib.term.URIRef('http://www.w3.org/2001/XMLSchema#string')))\n",
      "(rdflib.term.URIRef('http://www.semanticweb.org/ajay/ontologies/2022/3/Volleyballonto#Paul_Lee'), rdflib.term.URIRef('http://www.semanticweb.org/ajay/ontologies/2022/3/Volleyballonto#team_id'), rdflib.term.Literal('usa', datatype=rdflib.term.URIRef('http://www.w3.org/2001/XMLSchema#string')))\n",
      "(rdflib.term.URIRef('http://www.semanticweb.org/ajay/ontologies/2022/3/Volleyballonto#Paul_Lee'), rdflib.term.URIRef('http://www.semanticweb.org/ajay/ontologies/2022/3/Volleyballonto#name'), rdflib.term.Literal('Paul Lee', datatype=rdflib.term.URIRef('http://www.w3.org/2001/XMLSchema#string')))\n",
      "(rdflib.term.URIRef('http://www.semanticweb.org/ajay/ontologies/2022/3/Volleyballonto#Paul_Lee'), rdflib.term.URIRef('http://www.semanticweb.org/ajay/ontologies/2022/3/Volleyballonto#position'), rdflib.term.Literal('5', datatype=rdflib.term.URIRef('http://www.w3.org/2001/XMLSchema#string')))\n",
      "(rdflib.term.URIRef('http://www.semanticweb.org/ajay/ontologies/2022/3/Volleyballonto#Chris_Green'), rdflib.term.URIRef('http://www.semanticweb.org/ajay/ontologies/2022/3/Volleyballonto#team_id'), rdflib.term.Literal('usa', datatype=rdflib.term.URIRef('http://www.w3.org/2001/XMLSchema#string')))\n",
      "(rdflib.term.URIRef('http://www.semanticweb.org/ajay/ontologies/2022/3/Volleyballonto#Chris_Green'), rdflib.term.URIRef('http://www.semanticweb.org/ajay/ontologies/2022/3/Volleyballonto#name'), rdflib.term.Literal('Chris Green', datatype=rdflib.term.URIRef('http://www.w3.org/2001/XMLSchema#string')))\n",
      "(rdflib.term.URIRef('http://www.semanticweb.org/ajay/ontologies/2022/3/Volleyballonto#Chris_Green'), rdflib.term.URIRef('http://www.semanticweb.org/ajay/ontologies/2022/3/Volleyballonto#position'), rdflib.term.Literal('6', datatype=rdflib.term.URIRef('http://www.w3.org/2001/XMLSchema#string')))\n",
      "(rdflib.term.URIRef('http://www.semanticweb.org/ajay/ontologies/2022/3/Volleyballonto#Jordan_Larson'), rdflib.term.URIRef('http://www.semanticweb.org/ajay/ontologies/2022/3/Volleyballonto#team_id'), rdflib.term.Literal('canada', datatype=rdflib.term.URIRef('http://www.w3.org/2001/XMLSchema#string')))\n",
      "(rdflib.term.URIRef('http://www.semanticweb.org/ajay/ontologies/2022/3/Volleyballonto#Jordan_Larson'), rdflib.term.URIRef('http://www.semanticweb.org/ajay/ontologies/2022/3/Volleyballonto#name'), rdflib.term.Literal('Jordan Larson', datatype=rdflib.term.URIRef('http://www.w3.org/2001/XMLSchema#string')))\n",
      "(rdflib.term.URIRef('http://www.semanticweb.org/ajay/ontologies/2022/3/Volleyballonto#Jordan_Larson'), rdflib.term.URIRef('http://www.semanticweb.org/ajay/ontologies/2022/3/Volleyballonto#position'), rdflib.term.Literal('1', datatype=rdflib.term.URIRef('http://www.w3.org/2001/XMLSchema#string')))\n",
      "(rdflib.term.URIRef('http://www.semanticweb.org/ajay/ontologies/2022/3/Volleyballonto#Foluke_Akinradewo_Gunderson'), rdflib.term.URIRef('http://www.semanticweb.org/ajay/ontologies/2022/3/Volleyballonto#team_id'), rdflib.term.Literal('canada', datatype=rdflib.term.URIRef('http://www.w3.org/2001/XMLSchema#string')))\n",
      "(rdflib.term.URIRef('http://www.semanticweb.org/ajay/ontologies/2022/3/Volleyballonto#Foluke_Akinradewo_Gunderson'), rdflib.term.URIRef('http://www.semanticweb.org/ajay/ontologies/2022/3/Volleyballonto#name'), rdflib.term.Literal('Foluke Akinradewo Gunderson', datatype=rdflib.term.URIRef('http://www.w3.org/2001/XMLSchema#string')))\n",
      "(rdflib.term.URIRef('http://www.semanticweb.org/ajay/ontologies/2022/3/Volleyballonto#Foluke_Akinradewo_Gunderson'), rdflib.term.URIRef('http://www.semanticweb.org/ajay/ontologies/2022/3/Volleyballonto#position'), rdflib.term.Literal('2', datatype=rdflib.term.URIRef('http://www.w3.org/2001/XMLSchema#string')))\n",
      "(rdflib.term.URIRef('http://www.semanticweb.org/ajay/ontologies/2022/3/Volleyballonto#Jordan_Thompson'), rdflib.term.URIRef('http://www.semanticweb.org/ajay/ontologies/2022/3/Volleyballonto#team_id'), rdflib.term.Literal('canada', datatype=rdflib.term.URIRef('http://www.w3.org/2001/XMLSchema#string')))\n",
      "(rdflib.term.URIRef('http://www.semanticweb.org/ajay/ontologies/2022/3/Volleyballonto#Jordan_Thompson'), rdflib.term.URIRef('http://www.semanticweb.org/ajay/ontologies/2022/3/Volleyballonto#name'), rdflib.term.Literal('Jordan Thompson', datatype=rdflib.term.URIRef('http://www.w3.org/2001/XMLSchema#string')))\n",
      "(rdflib.term.URIRef('http://www.semanticweb.org/ajay/ontologies/2022/3/Volleyballonto#Jordan_Thompson'), rdflib.term.URIRef('http://www.semanticweb.org/ajay/ontologies/2022/3/Volleyballonto#position'), rdflib.term.Literal('3', datatype=rdflib.term.URIRef('http://www.w3.org/2001/XMLSchema#string')))\n",
      "(rdflib.term.URIRef('http://www.semanticweb.org/ajay/ontologies/2022/3/Volleyballonto#Kelsey_Robinson'), rdflib.term.URIRef('http://www.semanticweb.org/ajay/ontologies/2022/3/Volleyballonto#team_id'), rdflib.term.Literal('canada', datatype=rdflib.term.URIRef('http://www.w3.org/2001/XMLSchema#string')))\n",
      "(rdflib.term.URIRef('http://www.semanticweb.org/ajay/ontologies/2022/3/Volleyballonto#Kelsey_Robinson'), rdflib.term.URIRef('http://www.semanticweb.org/ajay/ontologies/2022/3/Volleyballonto#name'), rdflib.term.Literal('Kelsey Robinson', datatype=rdflib.term.URIRef('http://www.w3.org/2001/XMLSchema#string')))\n",
      "(rdflib.term.URIRef('http://www.semanticweb.org/ajay/ontologies/2022/3/Volleyballonto#Kelsey_Robinson'), rdflib.term.URIRef('http://www.semanticweb.org/ajay/ontologies/2022/3/Volleyballonto#position'), rdflib.term.Literal('4', datatype=rdflib.term.URIRef('http://www.w3.org/2001/XMLSchema#string')))\n",
      "(rdflib.term.URIRef('http://www.semanticweb.org/ajay/ontologies/2022/3/Volleyballonto#Mike_Adams'), rdflib.term.URIRef('http://www.semanticweb.org/ajay/ontologies/2022/3/Volleyballonto#team_id'), rdflib.term.Literal('canada', datatype=rdflib.term.URIRef('http://www.w3.org/2001/XMLSchema#string')))\n",
      "(rdflib.term.URIRef('http://www.semanticweb.org/ajay/ontologies/2022/3/Volleyballonto#Mike_Adams'), rdflib.term.URIRef('http://www.semanticweb.org/ajay/ontologies/2022/3/Volleyballonto#name'), rdflib.term.Literal('Mike Adams', datatype=rdflib.term.URIRef('http://www.w3.org/2001/XMLSchema#string')))\n",
      "(rdflib.term.URIRef('http://www.semanticweb.org/ajay/ontologies/2022/3/Volleyballonto#Mike_Adams'), rdflib.term.URIRef('http://www.semanticweb.org/ajay/ontologies/2022/3/Volleyballonto#position'), rdflib.term.Literal('5', datatype=rdflib.term.URIRef('http://www.w3.org/2001/XMLSchema#string')))\n",
      "(rdflib.term.URIRef('http://www.semanticweb.org/ajay/ontologies/2022/3/Volleyballonto#Peter_Hill'), rdflib.term.URIRef('http://www.semanticweb.org/ajay/ontologies/2022/3/Volleyballonto#team_id'), rdflib.term.Literal('canada', datatype=rdflib.term.URIRef('http://www.w3.org/2001/XMLSchema#string')))\n",
      "(rdflib.term.URIRef('http://www.semanticweb.org/ajay/ontologies/2022/3/Volleyballonto#Peter_Hill'), rdflib.term.URIRef('http://www.semanticweb.org/ajay/ontologies/2022/3/Volleyballonto#name'), rdflib.term.Literal('Peter Hill', datatype=rdflib.term.URIRef('http://www.w3.org/2001/XMLSchema#string')))\n",
      "(rdflib.term.URIRef('http://www.semanticweb.org/ajay/ontologies/2022/3/Volleyballonto#Peter_Hill'), rdflib.term.URIRef('http://www.semanticweb.org/ajay/ontologies/2022/3/Volleyballonto#position'), rdflib.term.Literal('6', datatype=rdflib.term.URIRef('http://www.w3.org/2001/XMLSchema#string')))\n",
      "(rdflib.term.URIRef('http://www.semanticweb.org/ajay/ontologies/2022/3/Volleyballonto#A001'), rdflib.term.URIRef('http://www.semanticweb.org/ajay/ontologies/2022/3/Volleyballonto#orderDetails'), rdflib.term.Literal(\"<Element 'team1' at 0x000001F984106720>\", datatype=rdflib.term.URIRef('http://www.w3.org/2001/XMLSchema#string')))\n",
      "(rdflib.term.URIRef('http://www.semanticweb.org/ajay/ontologies/2022/3/Volleyballonto#A001'), rdflib.term.URIRef('http://www.semanticweb.org/ajay/ontologies/2022/3/Volleyballonto#orderDetails'), rdflib.term.Literal(\"<Element 'team1' at 0x000001F984106720>\", datatype=rdflib.term.URIRef('http://www.w3.org/2001/XMLSchema#string')))\n"
     ]
    }
   ],
   "source": [
    "for a in att_properties:\n",
    "    print(a)"
   ]
  },
  {
   "cell_type": "code",
   "execution_count": 65,
   "id": "c078b449",
   "metadata": {},
   "outputs": [
    {
     "name": "stdout",
     "output_type": "stream",
     "text": [
      "Total Added Triples =  78\n",
      "28\n",
      "12\n",
      "38\n"
     ]
    }
   ],
   "source": [
    "print(\"Total Added Triples = \",int(len(triplets))+int(len(obj_properties))+int(len(att_properties)))\n",
    "print(int(len(triplets)))\n",
    "print(int(len(obj_properties)))\n",
    "print(int(len(att_properties)))"
   ]
  },
  {
   "cell_type": "code",
   "execution_count": 66,
   "id": "0e92c95f",
   "metadata": {},
   "outputs": [],
   "source": [
    "for i in triplets:\n",
    "    g.add(i)\n",
    "\n",
    "for i in obj_properties:\n",
    "    g.add(i)\n",
    "\n",
    "for i in att_properties:\n",
    "    g.add(i)"
   ]
  },
  {
   "cell_type": "code",
   "execution_count": 67,
   "id": "ebb16041",
   "metadata": {},
   "outputs": [
    {
     "name": "stdout",
     "output_type": "stream",
     "text": [
      "270\n"
     ]
    }
   ],
   "source": [
    "count= 0\n",
    "for s,p,o in g:\n",
    "    count +=1\n",
    "print(count)"
   ]
  },
  {
   "cell_type": "code",
   "execution_count": 68,
   "id": "245937dc",
   "metadata": {},
   "outputs": [
    {
     "data": {
      "text/plain": [
       "<Graph identifier=N041c4401e3d340dfaf0c0072ec7e189e (<class 'rdflib.graph.Graph'>)>"
      ]
     },
     "execution_count": 68,
     "metadata": {},
     "output_type": "execute_result"
    }
   ],
   "source": [
    "g.serialize(destination=\"Volleyball_draft1.owl\",format='xml')"
   ]
  },
  {
   "cell_type": "code",
   "execution_count": 70,
   "id": "177b4eb2",
   "metadata": {},
   "outputs": [],
   "source": [
    "from owlready2 import *\n",
    "\n",
    "onto_path.append(cwd)\n",
    "onto = get_ontology(\"file://Volleyball_draft1.owl\").load()"
   ]
  },
  {
   "cell_type": "code",
   "execution_count": 71,
   "id": "63edb804",
   "metadata": {},
   "outputs": [
    {
     "name": "stdout",
     "output_type": "stream",
     "text": [
      "<class 'owlready2.namespace.Ontology'>\n"
     ]
    }
   ],
   "source": [
    "print(type(onto))"
   ]
  },
  {
   "cell_type": "code",
   "execution_count": 72,
   "id": "e87fc8a5",
   "metadata": {
    "scrolled": true
   },
   "outputs": [
    {
     "name": "stderr",
     "output_type": "stream",
     "text": [
      "* Owlready2 * Running HermiT...\n",
      "    java -Xmx2000M -cp C:\\Users\\asus\\AppData\\Roaming\\Python\\Python39\\site-packages\\owlready2\\hermit;C:\\Users\\asus\\AppData\\Roaming\\Python\\Python39\\site-packages\\owlready2\\hermit\\HermiT.jar org.semanticweb.HermiT.cli.CommandLine -c -O -D -I file:///C:/Users/asus/AppData/Local/Temp/tmpec1fv7gq\n",
      "* Owlready2 * HermiT took 0.6761376857757568 seconds\n",
      "* Owlready * Reparenting Volleyball_draft1.hasTeam2Score: {owl.ObjectProperty, Volleyball_draft1.hasSet} => {Volleyball_draft1.hasSet}\n",
      "* Owlready * Reparenting Volleyball_draft1.hasTeam1Score: {owl.ObjectProperty, Volleyball_draft1.hasSet} => {Volleyball_draft1.hasSet}\n",
      "* Owlready * Reparenting Volleyball_draft1.hasPosition: {Volleyball_draft1.hasPlayer, owl.ObjectProperty} => {Volleyball_draft1.hasPlayer}\n",
      "* Owlready * Reparenting Volleyball_draft1.hasTeam: {owl.ObjectProperty, Volleyball_draft1.hasTournament} => {Volleyball_draft1.hasTournament}\n",
      "* Owlready * Reparenting Volleyball_draft1.hasSponsor: {owl.ObjectProperty, Volleyball_draft1.hasTournament} => {Volleyball_draft1.hasTournament}\n",
      "* Owlready * Reparenting Volleyball_draft1.hasOrganizer: {owl.ObjectProperty, Volleyball_draft1.hasTournament} => {Volleyball_draft1.hasTournament}\n",
      "* Owlready * Reparenting Volleyball_draft1.hasMatch: {owl.ObjectProperty, Volleyball_draft1.hasTournament} => {Volleyball_draft1.hasTournament}\n",
      "* Owlready * Reparenting Volleyball_draft1.hasLocation: {owl.ObjectProperty, Volleyball_draft1.hasTournament} => {Volleyball_draft1.hasTournament}\n",
      "* Owlready * Reparenting Volleyball_draft1.hasSet: {Volleyball_draft1.hasMatch, owl.ObjectProperty} => {Volleyball_draft1.hasMatch}\n",
      "* Owlready * Reparenting Volleyball_draft1.hasLineJudge: {Volleyball_draft1.hasMatch, owl.ObjectProperty} => {Volleyball_draft1.hasMatch}\n",
      "* Owlready * Reparenting Volleyball_draft1.hasTeam1: {Volleyball_draft1.hasMatch, owl.ObjectProperty} => {Volleyball_draft1.hasMatch}\n",
      "* Owlready * Reparenting Volleyball_draft1.hasTeam2: {Volleyball_draft1.hasMatch, owl.ObjectProperty} => {Volleyball_draft1.hasMatch}\n",
      "* Owlready * Reparenting Volleyball_draft1.hasReferee: {Volleyball_draft1.hasMatch, owl.ObjectProperty} => {Volleyball_draft1.hasMatch}\n",
      "* Owlready * Reparenting Volleyball_draft1.hasPlayer: {Volleyball_draft1.hasTeam, owl.ObjectProperty} => {Volleyball_draft1.hasTeam}\n",
      "* Owlready * Reparenting Volleyball_draft1.hasCoach: {Volleyball_draft1.hasTeam, owl.ObjectProperty} => {Volleyball_draft1.hasTeam}\n",
      "* Owlready * Reparenting Volleyball_draft1.hometown: {Volleyball_draft1.jersey_no, owl.DatatypeProperty} => {Volleyball_draft1.jersey_no}\n",
      "* Owlready * (NB: only changes on entities loaded in Python are shown, other changes are done but not listed)\n"
     ]
    }
   ],
   "source": [
    "with onto: sync_reasoner()\n",
    "onto.save(\"VolleyballOntologyRdf_syn.owl\")"
   ]
  },
  {
   "cell_type": "code",
   "execution_count": 73,
   "id": "9e1c15ac",
   "metadata": {},
   "outputs": [
    {
     "data": {
      "text/plain": [
       "<Graph identifier=N3c643a117cb2439487a7972e1c6a6a1c (<class 'rdflib.graph.Graph'>)>"
      ]
     },
     "execution_count": 73,
     "metadata": {},
     "output_type": "execute_result"
    }
   ],
   "source": [
    "import rdflib\n",
    "g2=rdflib.Graph()\n",
    "fl = \"VolleyballOntologyRdf_syn.owl\"\n",
    "g2.parse(fl, format='xml')"
   ]
  },
  {
   "cell_type": "code",
   "execution_count": 74,
   "id": "e1d96991",
   "metadata": {},
   "outputs": [
    {
     "name": "stdout",
     "output_type": "stream",
     "text": [
      "272\n"
     ]
    }
   ],
   "source": [
    "c=0\n",
    "for t in g2.triples((None,None,None)):\n",
    "    c+=1\n",
    "print(c)"
   ]
  },
  {
   "cell_type": "code",
   "execution_count": 75,
   "id": "c6335fab",
   "metadata": {},
   "outputs": [
    {
     "name": "stdout",
     "output_type": "stream",
     "text": [
      "<http://www.semanticweb.org/rutuj/ontologies/2023/3/untitled-ontology-3#Aoba_Johsai_High> <http://www.w3.org/1999/02/22-rdf-syntax-ns#type> <http://www.semanticweb.org/rutuj/ontologies/2023/3/untitled-ontology-3#Volleyball> .\n",
      "<http://www.semanticweb.org/rutuj/ontologies/2023/3/untitled-ontology-3#Karasuno_High> <http://www.w3.org/1999/02/22-rdf-syntax-ns#type> <http://www.semanticweb.org/rutuj/ontologies/2023/3/untitled-ontology-3#Volleyball> .\n"
     ]
    }
   ],
   "source": [
    "from rdflib.compare import to_isomorphic, graph_diff\n",
    "iso1 = to_isomorphic(g)\n",
    "iso2 = to_isomorphic(g2)\n",
    "\n",
    "in_both, in_first, in_second = graph_diff(iso1,iso2)\n",
    "\n",
    "def dump_nt_sorted(g):\n",
    "    for l in sorted(g.serialize(format='nt').splitlines()):\n",
    "        if(l) : print(l)\n",
    "\n",
    "dump_nt_sorted(in_second)"
   ]
  },
  {
   "cell_type": "code",
   "execution_count": null,
   "id": "d1ab4675",
   "metadata": {},
   "outputs": [],
   "source": []
  }
 ],
 "metadata": {
  "kernelspec": {
   "display_name": "Python 3 (ipykernel)",
   "language": "python",
   "name": "python3"
  },
  "language_info": {
   "codemirror_mode": {
    "name": "ipython",
    "version": 3
   },
   "file_extension": ".py",
   "mimetype": "text/x-python",
   "name": "python",
   "nbconvert_exporter": "python",
   "pygments_lexer": "ipython3",
   "version": "3.9.12"
  }
 },
 "nbformat": 4,
 "nbformat_minor": 5
}
